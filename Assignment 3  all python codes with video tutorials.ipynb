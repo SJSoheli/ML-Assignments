{
 "cells": [
  {
   "cell_type": "markdown",
   "id": "f3ce0391",
   "metadata": {},
   "source": [
    "# DAy 3"
   ]
  },
  {
   "cell_type": "code",
   "execution_count": 1,
   "id": "667e3f50",
   "metadata": {},
   "outputs": [
    {
     "data": {
      "text/plain": [
       "str"
      ]
     },
     "execution_count": 1,
     "metadata": {},
     "output_type": "execute_result"
    }
   ],
   "source": [
    "data  = '60 days of python'\n",
    "type(data)\n"
   ]
  },
  {
   "cell_type": "code",
   "execution_count": 2,
   "id": "c460fdd4",
   "metadata": {},
   "outputs": [
    {
     "data": {
      "text/plain": [
       "17"
      ]
     },
     "execution_count": 2,
     "metadata": {},
     "output_type": "execute_result"
    }
   ],
   "source": [
    "len(data)"
   ]
  },
  {
   "cell_type": "code",
   "execution_count": 3,
   "id": "8e5454eb",
   "metadata": {},
   "outputs": [
    {
     "data": {
      "text/plain": [
       "66"
      ]
     },
     "execution_count": 3,
     "metadata": {},
     "output_type": "execute_result"
    }
   ],
   "source": [
    "import sys\n",
    "sys.getsizeof(data)"
   ]
  },
  {
   "cell_type": "code",
   "execution_count": 5,
   "id": "54f008a3",
   "metadata": {},
   "outputs": [
    {
     "data": {
      "text/plain": [
       "1"
      ]
     },
     "execution_count": 5,
     "metadata": {},
     "output_type": "execute_result"
    }
   ],
   "source": [
    "data.count('python')"
   ]
  },
  {
   "cell_type": "markdown",
   "id": "d09ea40a",
   "metadata": {},
   "source": [
    "# string methiod\n"
   ]
  },
  {
   "cell_type": "code",
   "execution_count": 6,
   "id": "bd75b93c",
   "metadata": {},
   "outputs": [
    {
     "data": {
      "text/plain": [
       "9"
      ]
     },
     "execution_count": 6,
     "metadata": {},
     "output_type": "execute_result"
    }
   ],
   "source": [
    "data.find('f')"
   ]
  },
  {
   "cell_type": "code",
   "execution_count": 7,
   "id": "2cdcb60f",
   "metadata": {},
   "outputs": [
    {
     "data": {
      "text/plain": [
       "8"
      ]
     },
     "execution_count": 7,
     "metadata": {},
     "output_type": "execute_result"
    }
   ],
   "source": [
    "data.find('of')"
   ]
  },
  {
   "cell_type": "code",
   "execution_count": 8,
   "id": "bdef7d40",
   "metadata": {},
   "outputs": [
    {
     "data": {
      "text/plain": [
       "-1"
      ]
     },
     "execution_count": 8,
     "metadata": {},
     "output_type": "execute_result"
    }
   ],
   "source": [
    "data.find('y', 7,12)"
   ]
  },
  {
   "cell_type": "code",
   "execution_count": 9,
   "id": "7d039dd7",
   "metadata": {},
   "outputs": [
    {
     "data": {
      "text/plain": [
       "5"
      ]
     },
     "execution_count": 9,
     "metadata": {},
     "output_type": "execute_result"
    }
   ],
   "source": [
    "data.index('y')"
   ]
  },
  {
   "cell_type": "code",
   "execution_count": 10,
   "id": "8aaf6106",
   "metadata": {},
   "outputs": [
    {
     "ename": "ValueError",
     "evalue": "substring not found",
     "output_type": "error",
     "traceback": [
      "\u001b[1;31m---------------------------------------------------------------------------\u001b[0m",
      "\u001b[1;31mValueError\u001b[0m                                Traceback (most recent call last)",
      "Input \u001b[1;32mIn [10]\u001b[0m, in \u001b[0;36m<cell line: 1>\u001b[1;34m()\u001b[0m\n\u001b[1;32m----> 1\u001b[0m \u001b[43mdata\u001b[49m\u001b[38;5;241;43m.\u001b[39;49m\u001b[43mindex\u001b[49m\u001b[43m(\u001b[49m\u001b[38;5;124;43m'\u001b[39;49m\u001b[38;5;124;43mAY\u001b[39;49m\u001b[38;5;124;43m'\u001b[39;49m\u001b[43m)\u001b[49m\n",
      "\u001b[1;31mValueError\u001b[0m: substring not found"
     ]
    }
   ],
   "source": [
    "data.index('AY')"
   ]
  },
  {
   "cell_type": "code",
   "execution_count": 14,
   "id": "177f9cef",
   "metadata": {},
   "outputs": [
    {
     "ename": "ValueError",
     "evalue": "substring not found",
     "output_type": "error",
     "traceback": [
      "\u001b[1;31m---------------------------------------------------------------------------\u001b[0m",
      "\u001b[1;31mValueError\u001b[0m                                Traceback (most recent call last)",
      "Input \u001b[1;32mIn [14]\u001b[0m, in \u001b[0;36m<cell line: 1>\u001b[1;34m()\u001b[0m\n\u001b[1;32m----> 1\u001b[0m \u001b[43mdata\u001b[49m\u001b[38;5;241;43m.\u001b[39;49m\u001b[43mindex\u001b[49m\u001b[43m(\u001b[49m\u001b[38;5;124;43m'\u001b[39;49m\u001b[38;5;124;43my\u001b[39;49m\u001b[38;5;124;43m'\u001b[39;49m\u001b[43m,\u001b[49m\u001b[43m \u001b[49m\u001b[38;5;241;43m1\u001b[39;49m\u001b[43m,\u001b[49m\u001b[38;5;241;43m3\u001b[39;49m\u001b[43m)\u001b[49m\n",
      "\u001b[1;31mValueError\u001b[0m: substring not found"
     ]
    }
   ],
   "source": [
    "data.index('y', 1,3)"
   ]
  },
  {
   "cell_type": "code",
   "execution_count": 16,
   "id": "8778f2e2",
   "metadata": {},
   "outputs": [
    {
     "data": {
      "text/plain": [
       "'my name is soha'"
      ]
     },
     "execution_count": 16,
     "metadata": {},
     "output_type": "execute_result"
    }
   ],
   "source": [
    "data1 = \"my name is Soha\"\n",
    "data1.lower()"
   ]
  },
  {
   "cell_type": "code",
   "execution_count": 17,
   "id": "a00b43ef",
   "metadata": {},
   "outputs": [
    {
     "data": {
      "text/plain": [
       "'MY NAME IS SOHA'"
      ]
     },
     "execution_count": 17,
     "metadata": {},
     "output_type": "execute_result"
    }
   ],
   "source": [
    "data1.upper()"
   ]
  },
  {
   "cell_type": "code",
   "execution_count": 18,
   "id": "0a20f274",
   "metadata": {},
   "outputs": [
    {
     "data": {
      "text/plain": [
       "'my name is soha'"
      ]
     },
     "execution_count": 18,
     "metadata": {},
     "output_type": "execute_result"
    }
   ],
   "source": [
    "data1.casefold()"
   ]
  },
  {
   "cell_type": "code",
   "execution_count": 19,
   "id": "175375dd",
   "metadata": {},
   "outputs": [
    {
     "data": {
      "text/plain": [
       "'My name is soha'"
      ]
     },
     "execution_count": 19,
     "metadata": {},
     "output_type": "execute_result"
    }
   ],
   "source": [
    "data1.capitalize()"
   ]
  },
  {
   "cell_type": "code",
   "execution_count": 20,
   "id": "d11e9eab",
   "metadata": {},
   "outputs": [
    {
     "data": {
      "text/plain": [
       "'MY NAME IS sOHA'"
      ]
     },
     "execution_count": 20,
     "metadata": {},
     "output_type": "execute_result"
    }
   ],
   "source": [
    "data1.swapcase()"
   ]
  },
  {
   "cell_type": "code",
   "execution_count": 21,
   "id": "8379be80",
   "metadata": {},
   "outputs": [
    {
     "data": {
      "text/plain": [
       "'My Name Is Soha'"
      ]
     },
     "execution_count": 21,
     "metadata": {},
     "output_type": "execute_result"
    }
   ],
   "source": [
    "data1.title()"
   ]
  },
  {
   "cell_type": "code",
   "execution_count": 22,
   "id": "010b25ff",
   "metadata": {},
   "outputs": [
    {
     "data": {
      "text/plain": [
       "False"
      ]
     },
     "execution_count": 22,
     "metadata": {},
     "output_type": "execute_result"
    }
   ],
   "source": [
    "data1.islower()\n"
   ]
  },
  {
   "cell_type": "code",
   "execution_count": 23,
   "id": "76ee190b",
   "metadata": {},
   "outputs": [
    {
     "data": {
      "text/plain": [
       "False"
      ]
     },
     "execution_count": 23,
     "metadata": {},
     "output_type": "execute_result"
    }
   ],
   "source": [
    "data1.isupper()"
   ]
  },
  {
   "cell_type": "code",
   "execution_count": 24,
   "id": "087ad9d5",
   "metadata": {},
   "outputs": [
    {
     "data": {
      "text/plain": [
       "False"
      ]
     },
     "execution_count": 24,
     "metadata": {},
     "output_type": "execute_result"
    }
   ],
   "source": [
    "data1.isdigit()"
   ]
  },
  {
   "cell_type": "code",
   "execution_count": 25,
   "id": "2375de26",
   "metadata": {},
   "outputs": [
    {
     "data": {
      "text/plain": [
       "b'my name is Soha'"
      ]
     },
     "execution_count": 25,
     "metadata": {},
     "output_type": "execute_result"
    }
   ],
   "source": [
    "data1.encode()"
   ]
  },
  {
   "cell_type": "code",
   "execution_count": 27,
   "id": "52d235d8",
   "metadata": {},
   "outputs": [
    {
     "data": {
      "text/plain": [
       "bytes"
      ]
     },
     "execution_count": 27,
     "metadata": {},
     "output_type": "execute_result"
    }
   ],
   "source": [
    "type(data1.encode())"
   ]
  },
  {
   "cell_type": "code",
   "execution_count": 28,
   "id": "d2822359",
   "metadata": {},
   "outputs": [
    {
     "data": {
      "text/plain": [
       "['we', 'care', 'about', 'you']"
      ]
     },
     "execution_count": 28,
     "metadata": {},
     "output_type": "execute_result"
    }
   ],
   "source": [
    "a = 'we care about you'\n",
    "a.split()"
   ]
  },
  {
   "cell_type": "code",
   "execution_count": 29,
   "id": "712c2017",
   "metadata": {},
   "outputs": [
    {
     "data": {
      "text/plain": [
       "'we'"
      ]
     },
     "execution_count": 29,
     "metadata": {},
     "output_type": "execute_result"
    }
   ],
   "source": [
    "a.split()[0]"
   ]
  },
  {
   "cell_type": "code",
   "execution_count": 31,
   "id": "659484f9",
   "metadata": {},
   "outputs": [
    {
     "data": {
      "text/plain": [
       "'                                         we care about you                                          '"
      ]
     },
     "execution_count": 31,
     "metadata": {},
     "output_type": "execute_result"
    }
   ],
   "source": [
    "a.center(100)"
   ]
  },
  {
   "cell_type": "code",
   "execution_count": 32,
   "id": "43d82bf2",
   "metadata": {},
   "outputs": [
    {
     "data": {
      "text/plain": [
       "'we dont care about you'"
      ]
     },
     "execution_count": 32,
     "metadata": {},
     "output_type": "execute_result"
    }
   ],
   "source": [
    "a.replace('care', 'dont care')"
   ]
  },
  {
   "cell_type": "code",
   "execution_count": 33,
   "id": "bff98cd7",
   "metadata": {},
   "outputs": [
    {
     "name": "stdout",
     "output_type": "stream",
     "text": [
      "i have taka :  170\n"
     ]
    }
   ],
   "source": [
    "s = 12\n",
    "d = 13\n",
    "f = 145\n",
    "q = f+s+d\n",
    "print('i have taka : ', q)"
   ]
  },
  {
   "cell_type": "code",
   "execution_count": 35,
   "id": "dfb7c530",
   "metadata": {},
   "outputs": [
    {
     "name": "stdout",
     "output_type": "stream",
     "text": [
      "i have 170 taka\n"
     ]
    }
   ],
   "source": [
    "print('i have {} taka'.format(q))"
   ]
  },
  {
   "cell_type": "markdown",
   "id": "c06169e5",
   "metadata": {},
   "source": [
    "# Day 4 data types"
   ]
  },
  {
   "cell_type": "code",
   "execution_count": 38,
   "id": "c1644a40",
   "metadata": {},
   "outputs": [
    {
     "data": {
      "text/plain": [
       "complex"
      ]
     },
     "execution_count": 38,
     "metadata": {},
     "output_type": "execute_result"
    }
   ],
   "source": [
    "x = 10\n",
    "y = 10.5\n",
    "z = 10+0.5j\n",
    "type(x)\n",
    "type(z)\n"
   ]
  },
  {
   "cell_type": "code",
   "execution_count": 39,
   "id": "a8e5b68a",
   "metadata": {},
   "outputs": [
    {
     "data": {
      "text/plain": [
       "True"
      ]
     },
     "execution_count": 39,
     "metadata": {},
     "output_type": "execute_result"
    }
   ],
   "source": [
    "isinstance(z, complex)"
   ]
  },
  {
   "cell_type": "code",
   "execution_count": 40,
   "id": "8a38da08",
   "metadata": {},
   "outputs": [
    {
     "data": {
      "text/plain": [
       "False"
      ]
     },
     "execution_count": 40,
     "metadata": {},
     "output_type": "execute_result"
    }
   ],
   "source": [
    "isinstance(10, float)"
   ]
  },
  {
   "cell_type": "code",
   "execution_count": 42,
   "id": "8888c9b7",
   "metadata": {},
   "outputs": [],
   "source": [
    "#int to float \n",
    "\n",
    "n = float(x)"
   ]
  },
  {
   "cell_type": "code",
   "execution_count": 43,
   "id": "f478d517",
   "metadata": {},
   "outputs": [
    {
     "data": {
      "text/plain": [
       "10.0"
      ]
     },
     "execution_count": 43,
     "metadata": {},
     "output_type": "execute_result"
    }
   ],
   "source": [
    "n"
   ]
  },
  {
   "cell_type": "code",
   "execution_count": 44,
   "id": "67a0d140",
   "metadata": {},
   "outputs": [
    {
     "data": {
      "text/plain": [
       "10.0"
      ]
     },
     "execution_count": 44,
     "metadata": {},
     "output_type": "execute_result"
    }
   ],
   "source": [
    "type(n)\n",
    "n"
   ]
  },
  {
   "cell_type": "code",
   "execution_count": 45,
   "id": "12f4b5dc",
   "metadata": {},
   "outputs": [],
   "source": [
    "n = int(n)"
   ]
  },
  {
   "cell_type": "code",
   "execution_count": 46,
   "id": "f3a43ba4",
   "metadata": {},
   "outputs": [
    {
     "data": {
      "text/plain": [
       "int"
      ]
     },
     "execution_count": 46,
     "metadata": {},
     "output_type": "execute_result"
    }
   ],
   "source": [
    "type(n)"
   ]
  },
  {
   "cell_type": "code",
   "execution_count": 47,
   "id": "452b4b1c",
   "metadata": {},
   "outputs": [],
   "source": [
    "#int to complex\n",
    "n = complex(n)"
   ]
  },
  {
   "cell_type": "code",
   "execution_count": 48,
   "id": "86c352f5",
   "metadata": {},
   "outputs": [
    {
     "data": {
      "text/plain": [
       "(10+0j)"
      ]
     },
     "execution_count": 48,
     "metadata": {},
     "output_type": "execute_result"
    }
   ],
   "source": [
    "n"
   ]
  },
  {
   "cell_type": "code",
   "execution_count": 49,
   "id": "1574cec9",
   "metadata": {},
   "outputs": [
    {
     "name": "stdout",
     "output_type": "stream",
     "text": [
      "enter a complex number : 1+5j\n"
     ]
    }
   ],
   "source": [
    "n= complex(input('enter a complex number : '))"
   ]
  },
  {
   "cell_type": "code",
   "execution_count": 50,
   "id": "e6066281",
   "metadata": {},
   "outputs": [
    {
     "data": {
      "text/plain": [
       "(1+5j)"
      ]
     },
     "execution_count": 50,
     "metadata": {},
     "output_type": "execute_result"
    }
   ],
   "source": [
    "n"
   ]
  },
  {
   "cell_type": "code",
   "execution_count": 52,
   "id": "6442b6ee",
   "metadata": {},
   "outputs": [
    {
     "data": {
      "text/plain": [
       "complex"
      ]
     },
     "execution_count": 52,
     "metadata": {},
     "output_type": "execute_result"
    }
   ],
   "source": [
    "type(n)"
   ]
  },
  {
   "cell_type": "markdown",
   "id": "8e0f5287",
   "metadata": {},
   "source": [
    "# Boolean"
   ]
  },
  {
   "cell_type": "code",
   "execution_count": null,
   "id": "35e3323c",
   "metadata": {},
   "outputs": [],
   "source": []
  },
  {
   "cell_type": "code",
   "execution_count": 58,
   "id": "05f09331",
   "metadata": {},
   "outputs": [],
   "source": [
    "l = True\n",
    "k = False"
   ]
  },
  {
   "cell_type": "code",
   "execution_count": 59,
   "id": "2a537ea4",
   "metadata": {},
   "outputs": [
    {
     "data": {
      "text/plain": [
       "True"
      ]
     },
     "execution_count": 59,
     "metadata": {},
     "output_type": "execute_result"
    }
   ],
   "source": [
    "l"
   ]
  },
  {
   "cell_type": "markdown",
   "id": "a153eac0",
   "metadata": {},
   "source": [
    "# Sequence"
   ]
  },
  {
   "cell_type": "code",
   "execution_count": 125,
   "id": "af93a82e",
   "metadata": {},
   "outputs": [
    {
     "data": {
      "text/plain": [
       "[1, 2, 3, 4, True, [1, 2], 'data', (1, 2, 3, 44)]"
      ]
     },
     "execution_count": 125,
     "metadata": {},
     "output_type": "execute_result"
    }
   ],
   "source": [
    "#list\n",
    "list1 = [1,2,3,4,True,[1,2],'data',(1,2,3,44)]\n",
    "list1\n",
    "\n"
   ]
  },
  {
   "cell_type": "code",
   "execution_count": 126,
   "id": "7fbfdd02",
   "metadata": {},
   "outputs": [
    {
     "data": {
      "text/plain": [
       "True"
      ]
     },
     "execution_count": 126,
     "metadata": {},
     "output_type": "execute_result"
    }
   ],
   "source": [
    "1 in list1"
   ]
  },
  {
   "cell_type": "code",
   "execution_count": 69,
   "id": "11ec1797",
   "metadata": {},
   "outputs": [
    {
     "data": {
      "text/plain": [
       "1"
      ]
     },
     "execution_count": 69,
     "metadata": {},
     "output_type": "execute_result"
    }
   ],
   "source": [
    "list1[0]"
   ]
  },
  {
   "cell_type": "code",
   "execution_count": 127,
   "id": "91d3ff1a",
   "metadata": {},
   "outputs": [
    {
     "data": {
      "text/plain": [
       "True"
      ]
     },
     "execution_count": 127,
     "metadata": {},
     "output_type": "execute_result"
    }
   ],
   "source": [
    "10 not in list1"
   ]
  },
  {
   "cell_type": "code",
   "execution_count": 70,
   "id": "fd9998a5",
   "metadata": {},
   "outputs": [
    {
     "data": {
      "text/plain": [
       "3"
      ]
     },
     "execution_count": 70,
     "metadata": {},
     "output_type": "execute_result"
    }
   ],
   "source": [
    "list1[2]"
   ]
  },
  {
   "cell_type": "code",
   "execution_count": 71,
   "id": "2d14a6fd",
   "metadata": {},
   "outputs": [
    {
     "data": {
      "text/plain": [
       "[1, 2]"
      ]
     },
     "execution_count": 71,
     "metadata": {},
     "output_type": "execute_result"
    }
   ],
   "source": [
    "list1[5]"
   ]
  },
  {
   "cell_type": "code",
   "execution_count": 72,
   "id": "3fa1ef49",
   "metadata": {},
   "outputs": [
    {
     "data": {
      "text/plain": [
       "(1, 2, 3, 44)"
      ]
     },
     "execution_count": 72,
     "metadata": {},
     "output_type": "execute_result"
    }
   ],
   "source": [
    "list1[-1]"
   ]
  },
  {
   "cell_type": "code",
   "execution_count": 73,
   "id": "adc23922",
   "metadata": {},
   "outputs": [
    {
     "data": {
      "text/plain": [
       "1"
      ]
     },
     "execution_count": 73,
     "metadata": {},
     "output_type": "execute_result"
    }
   ],
   "source": [
    "list1[-1][0]"
   ]
  },
  {
   "cell_type": "code",
   "execution_count": 74,
   "id": "7ce42540",
   "metadata": {},
   "outputs": [
    {
     "data": {
      "text/plain": [
       "44"
      ]
     },
     "execution_count": 74,
     "metadata": {},
     "output_type": "execute_result"
    }
   ],
   "source": [
    "list1[-1][-1]"
   ]
  },
  {
   "cell_type": "code",
   "execution_count": 76,
   "id": "0ab3e7b1",
   "metadata": {},
   "outputs": [
    {
     "data": {
      "text/plain": [
       "list"
      ]
     },
     "execution_count": 76,
     "metadata": {},
     "output_type": "execute_result"
    }
   ],
   "source": [
    "type(list1)"
   ]
  },
  {
   "cell_type": "code",
   "execution_count": 78,
   "id": "2e0ffe0d",
   "metadata": {},
   "outputs": [
    {
     "data": {
      "text/plain": [
       "True"
      ]
     },
     "execution_count": 78,
     "metadata": {},
     "output_type": "execute_result"
    }
   ],
   "source": [
    "isinstance(list1,list)"
   ]
  },
  {
   "cell_type": "code",
   "execution_count": 79,
   "id": "8930b762",
   "metadata": {},
   "outputs": [
    {
     "data": {
      "text/plain": [
       "tuple"
      ]
     },
     "execution_count": 79,
     "metadata": {},
     "output_type": "execute_result"
    }
   ],
   "source": [
    "#touple\n",
    "\n",
    "t = (1,4,8,9,'AI')\n",
    "type(t)"
   ]
  },
  {
   "cell_type": "code",
   "execution_count": 84,
   "id": "b9fbaf12",
   "metadata": {},
   "outputs": [
    {
     "data": {
      "text/plain": [
       "(1, 4, 8, 9, 'AI')"
      ]
     },
     "execution_count": 84,
     "metadata": {},
     "output_type": "execute_result"
    }
   ],
   "source": [
    "t[0:10]"
   ]
  },
  {
   "cell_type": "code",
   "execution_count": 87,
   "id": "c0744277",
   "metadata": {},
   "outputs": [],
   "source": [
    "#range\n",
    "x = range(10)"
   ]
  },
  {
   "cell_type": "code",
   "execution_count": 88,
   "id": "928bccf4",
   "metadata": {},
   "outputs": [
    {
     "data": {
      "text/plain": [
       "range(0, 10)"
      ]
     },
     "execution_count": 88,
     "metadata": {},
     "output_type": "execute_result"
    }
   ],
   "source": [
    "x"
   ]
  },
  {
   "cell_type": "code",
   "execution_count": 90,
   "id": "a9b1e1a7",
   "metadata": {},
   "outputs": [
    {
     "name": "stdout",
     "output_type": "stream",
     "text": [
      "0\n",
      "1\n",
      "2\n",
      "3\n",
      "4\n",
      "5\n",
      "6\n",
      "7\n",
      "8\n",
      "9\n"
     ]
    }
   ],
   "source": [
    "for i in x:\n",
    "    print(i)"
   ]
  },
  {
   "cell_type": "code",
   "execution_count": 91,
   "id": "81b5df89",
   "metadata": {},
   "outputs": [
    {
     "name": "stdout",
     "output_type": "stream",
     "text": [
      "5\n",
      "6\n",
      "7\n",
      "8\n",
      "9\n",
      "10\n",
      "11\n",
      "12\n",
      "13\n",
      "14\n",
      "15\n",
      "16\n",
      "17\n",
      "18\n",
      "19\n"
     ]
    }
   ],
   "source": [
    "#range 2nd case\n",
    "x = range(5,20)\n",
    "for i in x:\n",
    "    print(i)"
   ]
  },
  {
   "cell_type": "code",
   "execution_count": 92,
   "id": "58c82916",
   "metadata": {},
   "outputs": [
    {
     "name": "stdout",
     "output_type": "stream",
     "text": [
      "5\n",
      "8\n",
      "11\n",
      "14\n",
      "17\n"
     ]
    }
   ],
   "source": [
    "#range 3rd case\n",
    "\n",
    "x = range(5,20,3)\n",
    "for i in x:\n",
    "    print(i)"
   ]
  },
  {
   "cell_type": "code",
   "execution_count": 93,
   "id": "16189394",
   "metadata": {},
   "outputs": [
    {
     "name": "stdout",
     "output_type": "stream",
     "text": [
      "20\n",
      "17\n",
      "14\n",
      "11\n",
      "8\n"
     ]
    }
   ],
   "source": [
    "#range 4th case\n",
    "\n",
    "x = range(20,5,-3)\n",
    "for i in x:\n",
    "    print(i)"
   ]
  },
  {
   "cell_type": "code",
   "execution_count": 95,
   "id": "7332c839",
   "metadata": {},
   "outputs": [
    {
     "data": {
      "text/plain": [
       "array('i', [1, 2, 3, 4])"
      ]
     },
     "execution_count": 95,
     "metadata": {},
     "output_type": "execute_result"
    }
   ],
   "source": [
    "#array\n",
    "import array as ar\n",
    "a = ar.array('i',[1,2,3,4])\n",
    "a\n"
   ]
  },
  {
   "cell_type": "code",
   "execution_count": 96,
   "id": "7ddc0114",
   "metadata": {},
   "outputs": [
    {
     "data": {
      "text/plain": [
       "array.array"
      ]
     },
     "execution_count": 96,
     "metadata": {},
     "output_type": "execute_result"
    }
   ],
   "source": [
    "type(a)"
   ]
  },
  {
   "cell_type": "code",
   "execution_count": 97,
   "id": "ae76bb8b",
   "metadata": {},
   "outputs": [],
   "source": [
    "a = ar.array('f',[1,2,3,4])\n"
   ]
  },
  {
   "cell_type": "code",
   "execution_count": 98,
   "id": "1e8665a2",
   "metadata": {},
   "outputs": [
    {
     "data": {
      "text/plain": [
       "array('f', [1.0, 2.0, 3.0, 4.0])"
      ]
     },
     "execution_count": 98,
     "metadata": {},
     "output_type": "execute_result"
    }
   ],
   "source": [
    "a"
   ]
  },
  {
   "cell_type": "markdown",
   "id": "d82239a7",
   "metadata": {},
   "source": [
    "# set"
   ]
  },
  {
   "cell_type": "code",
   "execution_count": 99,
   "id": "ce91a5f6",
   "metadata": {},
   "outputs": [
    {
     "data": {
      "text/plain": [
       "set"
      ]
     },
     "execution_count": 99,
     "metadata": {},
     "output_type": "execute_result"
    }
   ],
   "source": [
    "s = {1,2,3,4,5,6}\n",
    "type(s)"
   ]
  },
  {
   "cell_type": "markdown",
   "id": "c71fbf7a",
   "metadata": {},
   "source": [
    "# dictionary"
   ]
  },
  {
   "cell_type": "code",
   "execution_count": 100,
   "id": "5b075bc8",
   "metadata": {},
   "outputs": [
    {
     "data": {
      "text/plain": [
       "{'univ': 'JU', 'dept': 'IT'}"
      ]
     },
     "execution_count": 100,
     "metadata": {},
     "output_type": "execute_result"
    }
   ],
   "source": [
    "dic = {\n",
    "    'univ' : 'JU',\n",
    "    'dept' : 'IT'  \n",
    "    \n",
    "    \n",
    "}\n",
    "dic"
   ]
  },
  {
   "cell_type": "code",
   "execution_count": 101,
   "id": "9d08ca16",
   "metadata": {},
   "outputs": [
    {
     "data": {
      "text/plain": [
       "dict"
      ]
     },
     "execution_count": 101,
     "metadata": {},
     "output_type": "execute_result"
    }
   ],
   "source": [
    "type(dic)"
   ]
  },
  {
   "cell_type": "code",
   "execution_count": 102,
   "id": "c71fb255",
   "metadata": {},
   "outputs": [
    {
     "data": {
      "text/plain": [
       "dict_keys(['univ', 'dept'])"
      ]
     },
     "execution_count": 102,
     "metadata": {},
     "output_type": "execute_result"
    }
   ],
   "source": [
    "dic.keys()\n"
   ]
  },
  {
   "cell_type": "code",
   "execution_count": 103,
   "id": "ce57e1ba",
   "metadata": {},
   "outputs": [
    {
     "data": {
      "text/plain": [
       "dict_values(['JU', 'IT'])"
      ]
     },
     "execution_count": 103,
     "metadata": {},
     "output_type": "execute_result"
    }
   ],
   "source": [
    "dic.values()"
   ]
  },
  {
   "cell_type": "markdown",
   "id": "1c520c99",
   "metadata": {},
   "source": [
    "# data frame"
   ]
  },
  {
   "cell_type": "code",
   "execution_count": 105,
   "id": "5d3a4271",
   "metadata": {},
   "outputs": [
    {
     "ename": "NameError",
     "evalue": "name 'annual' is not defined",
     "output_type": "error",
     "traceback": [
      "\u001b[1;31m---------------------------------------------------------------------------\u001b[0m",
      "\u001b[1;31mNameError\u001b[0m                                 Traceback (most recent call last)",
      "Input \u001b[1;32mIn [105]\u001b[0m, in \u001b[0;36m<cell line: 2>\u001b[1;34m()\u001b[0m\n\u001b[0;32m      1\u001b[0m \u001b[38;5;28;01mimport\u001b[39;00m \u001b[38;5;21;01mpandas\u001b[39;00m \u001b[38;5;28;01mas\u001b[39;00m \u001b[38;5;21;01mpd\u001b[39;00m\n\u001b[1;32m----> 2\u001b[0m df \u001b[38;5;241m=\u001b[39m pd\u001b[38;5;241m.\u001b[39mread_csv(\u001b[43mannual\u001b[49m\u001b[38;5;241m-\u001b[39menterprise\u001b[38;5;241m-\u001b[39msurvey\u001b[38;5;241m-\u001b[39m\u001b[38;5;241m2021\u001b[39m\u001b[38;5;241m-\u001b[39mfinancial\u001b[38;5;241m-\u001b[39myear\u001b[38;5;241m-\u001b[39mprovisional\u001b[38;5;241m-\u001b[39msize\u001b[38;5;241m-\u001b[39mbands\u001b[38;5;241m-\u001b[39mcsv\u001b[38;5;241m.\u001b[39mcsv)\n\u001b[0;32m      3\u001b[0m df\u001b[38;5;241m.\u001b[39mhead()\n",
      "\u001b[1;31mNameError\u001b[0m: name 'annual' is not defined"
     ]
    }
   ],
   "source": [
    "import pandas as pd\n",
    "df = pd.read_csv(annual-enterprise-survey-2021-financial-year-provisional-size-bands-csv.csv)\n",
    "df.head()"
   ]
  },
  {
   "cell_type": "code",
   "execution_count": 108,
   "id": "bbc6c8c0",
   "metadata": {},
   "outputs": [],
   "source": [
    "import pandas as pd\n",
    "df = pd.read_csv('machine-readable-business-employment-data-june-2022-quarter.csv')\n"
   ]
  },
  {
   "cell_type": "code",
   "execution_count": 109,
   "id": "a3672087",
   "metadata": {},
   "outputs": [
    {
     "data": {
      "text/html": [
       "<div>\n",
       "<style scoped>\n",
       "    .dataframe tbody tr th:only-of-type {\n",
       "        vertical-align: middle;\n",
       "    }\n",
       "\n",
       "    .dataframe tbody tr th {\n",
       "        vertical-align: top;\n",
       "    }\n",
       "\n",
       "    .dataframe thead th {\n",
       "        text-align: right;\n",
       "    }\n",
       "</style>\n",
       "<table border=\"1\" class=\"dataframe\">\n",
       "  <thead>\n",
       "    <tr style=\"text-align: right;\">\n",
       "      <th></th>\n",
       "      <th>Series_reference</th>\n",
       "      <th>Period</th>\n",
       "      <th>Data_value</th>\n",
       "      <th>Suppressed</th>\n",
       "      <th>STATUS</th>\n",
       "      <th>UNITS</th>\n",
       "      <th>Magnitude</th>\n",
       "      <th>Subject</th>\n",
       "      <th>Group</th>\n",
       "      <th>Series_title_1</th>\n",
       "      <th>Series_title_2</th>\n",
       "      <th>Series_title_3</th>\n",
       "      <th>Series_title_4</th>\n",
       "      <th>Series_title_5</th>\n",
       "    </tr>\n",
       "  </thead>\n",
       "  <tbody>\n",
       "    <tr>\n",
       "      <th>0</th>\n",
       "      <td>BDCQ.SEA1AA</td>\n",
       "      <td>2011.06</td>\n",
       "      <td>80078.0</td>\n",
       "      <td>NaN</td>\n",
       "      <td>F</td>\n",
       "      <td>Number</td>\n",
       "      <td>0</td>\n",
       "      <td>Business Data Collection - BDC</td>\n",
       "      <td>Industry by employment variable</td>\n",
       "      <td>Filled jobs</td>\n",
       "      <td>Agriculture, Forestry and Fishing</td>\n",
       "      <td>Actual</td>\n",
       "      <td>NaN</td>\n",
       "      <td>NaN</td>\n",
       "    </tr>\n",
       "    <tr>\n",
       "      <th>1</th>\n",
       "      <td>BDCQ.SEA1AA</td>\n",
       "      <td>2011.09</td>\n",
       "      <td>78324.0</td>\n",
       "      <td>NaN</td>\n",
       "      <td>F</td>\n",
       "      <td>Number</td>\n",
       "      <td>0</td>\n",
       "      <td>Business Data Collection - BDC</td>\n",
       "      <td>Industry by employment variable</td>\n",
       "      <td>Filled jobs</td>\n",
       "      <td>Agriculture, Forestry and Fishing</td>\n",
       "      <td>Actual</td>\n",
       "      <td>NaN</td>\n",
       "      <td>NaN</td>\n",
       "    </tr>\n",
       "    <tr>\n",
       "      <th>2</th>\n",
       "      <td>BDCQ.SEA1AA</td>\n",
       "      <td>2011.12</td>\n",
       "      <td>85850.0</td>\n",
       "      <td>NaN</td>\n",
       "      <td>F</td>\n",
       "      <td>Number</td>\n",
       "      <td>0</td>\n",
       "      <td>Business Data Collection - BDC</td>\n",
       "      <td>Industry by employment variable</td>\n",
       "      <td>Filled jobs</td>\n",
       "      <td>Agriculture, Forestry and Fishing</td>\n",
       "      <td>Actual</td>\n",
       "      <td>NaN</td>\n",
       "      <td>NaN</td>\n",
       "    </tr>\n",
       "    <tr>\n",
       "      <th>3</th>\n",
       "      <td>BDCQ.SEA1AA</td>\n",
       "      <td>2012.03</td>\n",
       "      <td>90743.0</td>\n",
       "      <td>NaN</td>\n",
       "      <td>F</td>\n",
       "      <td>Number</td>\n",
       "      <td>0</td>\n",
       "      <td>Business Data Collection - BDC</td>\n",
       "      <td>Industry by employment variable</td>\n",
       "      <td>Filled jobs</td>\n",
       "      <td>Agriculture, Forestry and Fishing</td>\n",
       "      <td>Actual</td>\n",
       "      <td>NaN</td>\n",
       "      <td>NaN</td>\n",
       "    </tr>\n",
       "    <tr>\n",
       "      <th>4</th>\n",
       "      <td>BDCQ.SEA1AA</td>\n",
       "      <td>2012.06</td>\n",
       "      <td>81780.0</td>\n",
       "      <td>NaN</td>\n",
       "      <td>F</td>\n",
       "      <td>Number</td>\n",
       "      <td>0</td>\n",
       "      <td>Business Data Collection - BDC</td>\n",
       "      <td>Industry by employment variable</td>\n",
       "      <td>Filled jobs</td>\n",
       "      <td>Agriculture, Forestry and Fishing</td>\n",
       "      <td>Actual</td>\n",
       "      <td>NaN</td>\n",
       "      <td>NaN</td>\n",
       "    </tr>\n",
       "  </tbody>\n",
       "</table>\n",
       "</div>"
      ],
      "text/plain": [
       "  Series_reference   Period  Data_value Suppressed STATUS   UNITS  Magnitude  \\\n",
       "0      BDCQ.SEA1AA  2011.06     80078.0        NaN      F  Number          0   \n",
       "1      BDCQ.SEA1AA  2011.09     78324.0        NaN      F  Number          0   \n",
       "2      BDCQ.SEA1AA  2011.12     85850.0        NaN      F  Number          0   \n",
       "3      BDCQ.SEA1AA  2012.03     90743.0        NaN      F  Number          0   \n",
       "4      BDCQ.SEA1AA  2012.06     81780.0        NaN      F  Number          0   \n",
       "\n",
       "                          Subject                            Group  \\\n",
       "0  Business Data Collection - BDC  Industry by employment variable   \n",
       "1  Business Data Collection - BDC  Industry by employment variable   \n",
       "2  Business Data Collection - BDC  Industry by employment variable   \n",
       "3  Business Data Collection - BDC  Industry by employment variable   \n",
       "4  Business Data Collection - BDC  Industry by employment variable   \n",
       "\n",
       "  Series_title_1                     Series_title_2 Series_title_3  \\\n",
       "0    Filled jobs  Agriculture, Forestry and Fishing         Actual   \n",
       "1    Filled jobs  Agriculture, Forestry and Fishing         Actual   \n",
       "2    Filled jobs  Agriculture, Forestry and Fishing         Actual   \n",
       "3    Filled jobs  Agriculture, Forestry and Fishing         Actual   \n",
       "4    Filled jobs  Agriculture, Forestry and Fishing         Actual   \n",
       "\n",
       "   Series_title_4  Series_title_5  \n",
       "0             NaN             NaN  \n",
       "1             NaN             NaN  \n",
       "2             NaN             NaN  \n",
       "3             NaN             NaN  \n",
       "4             NaN             NaN  "
      ]
     },
     "execution_count": 109,
     "metadata": {},
     "output_type": "execute_result"
    }
   ],
   "source": [
    "df.head()"
   ]
  },
  {
   "cell_type": "code",
   "execution_count": 110,
   "id": "9db87481",
   "metadata": {},
   "outputs": [
    {
     "data": {
      "text/plain": [
       "(20254, 14)"
      ]
     },
     "execution_count": 110,
     "metadata": {},
     "output_type": "execute_result"
    }
   ],
   "source": [
    "df.shape"
   ]
  },
  {
   "cell_type": "code",
   "execution_count": 111,
   "id": "3e0c59e0",
   "metadata": {},
   "outputs": [
    {
     "name": "stdout",
     "output_type": "stream",
     "text": [
      "<class 'pandas.core.frame.DataFrame'>\n",
      "RangeIndex: 20254 entries, 0 to 20253\n",
      "Data columns (total 14 columns):\n",
      " #   Column            Non-Null Count  Dtype  \n",
      "---  ------            --------------  -----  \n",
      " 0   Series_reference  20254 non-null  object \n",
      " 1   Period            20254 non-null  float64\n",
      " 2   Data_value        15795 non-null  float64\n",
      " 3   Suppressed        2875 non-null   object \n",
      " 4   STATUS            20254 non-null  object \n",
      " 5   UNITS             20254 non-null  object \n",
      " 6   Magnitude         20254 non-null  int64  \n",
      " 7   Subject           20254 non-null  object \n",
      " 8   Group             20254 non-null  object \n",
      " 9   Series_title_1    20254 non-null  object \n",
      " 10  Series_title_2    20254 non-null  object \n",
      " 11  Series_title_3    20254 non-null  object \n",
      " 12  Series_title_4    0 non-null      float64\n",
      " 13  Series_title_5    0 non-null      float64\n",
      "dtypes: float64(4), int64(1), object(9)\n",
      "memory usage: 2.2+ MB\n"
     ]
    }
   ],
   "source": [
    "df.info()"
   ]
  },
  {
   "cell_type": "code",
   "execution_count": 112,
   "id": "c4762b4c",
   "metadata": {},
   "outputs": [
    {
     "data": {
      "text/plain": [
       "bytearray"
      ]
     },
     "execution_count": 112,
     "metadata": {},
     "output_type": "execute_result"
    }
   ],
   "source": [
    "#binary type\n",
    "byte_arr = bytearray('ABCD','utf-8')\n",
    "type(byte_arr)"
   ]
  },
  {
   "cell_type": "code",
   "execution_count": 113,
   "id": "832fe1c8",
   "metadata": {},
   "outputs": [
    {
     "data": {
      "text/plain": [
       "bytearray(b'ABCD')"
      ]
     },
     "execution_count": 113,
     "metadata": {},
     "output_type": "execute_result"
    }
   ],
   "source": [
    "byte_arr"
   ]
  },
  {
   "cell_type": "code",
   "execution_count": 116,
   "id": "430c7121",
   "metadata": {},
   "outputs": [
    {
     "data": {
      "text/plain": [
       "65"
      ]
     },
     "execution_count": 116,
     "metadata": {},
     "output_type": "execute_result"
    }
   ],
   "source": [
    "memoryview(byte_arr)[0]"
   ]
  },
  {
   "cell_type": "markdown",
   "id": "e75c7b0b",
   "metadata": {},
   "source": [
    "# day 6"
   ]
  },
  {
   "cell_type": "code",
   "execution_count": 118,
   "id": "f1f34440",
   "metadata": {},
   "outputs": [
    {
     "data": {
      "text/plain": [
       "1.3235294117647058"
      ]
     },
     "execution_count": 118,
     "metadata": {},
     "output_type": "execute_result"
    }
   ],
   "source": [
    "x = 23\n",
    "y = 34 \n",
    "z = 45\n",
    "z/y\n"
   ]
  },
  {
   "cell_type": "code",
   "execution_count": 121,
   "id": "ec98ff6d",
   "metadata": {},
   "outputs": [
    {
     "data": {
      "text/plain": [
       "1"
      ]
     },
     "execution_count": 121,
     "metadata": {},
     "output_type": "execute_result"
    }
   ],
   "source": [
    "import math\n",
    "math.floor(z/y)"
   ]
  },
  {
   "cell_type": "code",
   "execution_count": 123,
   "id": "cd78d815",
   "metadata": {},
   "outputs": [
    {
     "data": {
      "text/plain": [
       "2"
      ]
     },
     "execution_count": 123,
     "metadata": {},
     "output_type": "execute_result"
    }
   ],
   "source": [
    "math.ceil(z/x)"
   ]
  },
  {
   "cell_type": "code",
   "execution_count": null,
   "id": "9ffca609",
   "metadata": {},
   "outputs": [],
   "source": [
    "#bitwise operator\n",
    "x = 1010\n",
    "y = 0101\n",
    "x|y = 1111\n",
    "x & y = 0000\n"
   ]
  },
  {
   "cell_type": "code",
   "execution_count": 128,
   "id": "3bf94ce3",
   "metadata": {},
   "outputs": [
    {
     "data": {
      "text/plain": [
       "15"
      ]
     },
     "execution_count": 128,
     "metadata": {},
     "output_type": "execute_result"
    }
   ],
   "source": [
    "x = 10\n",
    "y = 5\n",
    "x | y"
   ]
  },
  {
   "cell_type": "code",
   "execution_count": 129,
   "id": "7035188e",
   "metadata": {},
   "outputs": [
    {
     "data": {
      "text/plain": [
       "0"
      ]
     },
     "execution_count": 129,
     "metadata": {},
     "output_type": "execute_result"
    }
   ],
   "source": [
    "x & y"
   ]
  },
  {
   "cell_type": "code",
   "execution_count": 130,
   "id": "c037887c",
   "metadata": {},
   "outputs": [
    {
     "data": {
      "text/plain": [
       "True"
      ]
     },
     "execution_count": 130,
     "metadata": {},
     "output_type": "execute_result"
    }
   ],
   "source": [
    "10 == 10\n"
   ]
  },
  {
   "cell_type": "markdown",
   "id": "33c9d67b",
   "metadata": {},
   "source": [
    "10>10"
   ]
  },
  {
   "cell_type": "code",
   "execution_count": 131,
   "id": "4d372f76",
   "metadata": {},
   "outputs": [
    {
     "data": {
      "text/plain": [
       "True"
      ]
     },
     "execution_count": 131,
     "metadata": {},
     "output_type": "execute_result"
    }
   ],
   "source": [
    "10>5"
   ]
  },
  {
   "cell_type": "markdown",
   "id": "1f2f62fc",
   "metadata": {},
   "source": [
    "# day 7"
   ]
  },
  {
   "cell_type": "code",
   "execution_count": 133,
   "id": "b3bde1e3",
   "metadata": {},
   "outputs": [
    {
     "name": "stdout",
     "output_type": "stream",
     "text": [
      "ok\n"
     ]
    }
   ],
   "source": [
    "x = 50\n",
    "y = 100\n",
    "if x>y:\n",
    "    print('fine')\n",
    "elif x<y:\n",
    "    print('ok')\n",
    "else:\n",
    "    print('not good')"
   ]
  },
  {
   "cell_type": "markdown",
   "id": "f5dc70ca",
   "metadata": {},
   "source": [
    "# electricity example day 7"
   ]
  },
  {
   "cell_type": "code",
   "execution_count": 136,
   "id": "70d7d078",
   "metadata": {},
   "outputs": [
    {
     "name": "stdout",
     "output_type": "stream",
     "text": [
      "enter a number: 8\n",
      "nom 1\n"
     ]
    }
   ],
   "source": [
    "num = float(input('enter a number: '))\n",
    "if num % 2 == 0:\n",
    "    if num % 5 == 0:\n",
    "        print(num, 'divisible by 5 and 2')\n",
    "    else:\n",
    "        print('nom 1')\n",
    "else:\n",
    "    print('no 2')\n"
   ]
  },
  {
   "cell_type": "code",
   "execution_count": 141,
   "id": "a9547921",
   "metadata": {},
   "outputs": [
    {
     "data": {
      "image/jpeg": "[encoded data removed]",
      "text/plain": [
       "<IPython.core.display.Image object>"
      ]
     },
     "execution_count": 141,
     "metadata": {},
     "output_type": "execute_result"
    }
   ],
   "source": [
    "from IPython.display import Image\n",
    "Image('day 7.JPG')"
   ]
  },
  {
   "cell_type": "code",
   "execution_count": 144,
   "id": "0fb43497",
   "metadata": {},
   "outputs": [
    {
     "name": "stdout",
     "output_type": "stream",
     "text": [
      "enter your unit value:  350\n",
      "why use so much electricity? bill is :   2000.0\n"
     ]
    }
   ],
   "source": [
    "amount = 0\n",
    "net_units = float(input('enter your unit value:  '))\n",
    "\n",
    "if net_units<=100:\n",
    "    print('you dont need to give any charge')\n",
    "    \n",
    "elif net_units>100 and net_units<=200:\n",
    "    amount = (net_units - 100)*5\n",
    "    print('your bill is :  ', amount)\n",
    "    \n",
    "elif net_units>200:\n",
    "    amount = ((net_units - 200)*10) + 500\n",
    "    print('why use so much electricity? bill is :  ',amount)\n",
    "    \n",
    "else: \n",
    "    print('no electricity is used')\n"
   ]
  },
  {
   "cell_type": "markdown",
   "id": "4c12276b",
   "metadata": {},
   "source": [
    "# take the value of length and breadth\n"
   ]
  },
  {
   "cell_type": "code",
   "execution_count": 147,
   "id": "448d0df9",
   "metadata": {},
   "outputs": [
    {
     "name": "stdout",
     "output_type": "stream",
     "text": [
      "give the value of length:  4\n",
      "give the value of width:  67\n",
      "this is not a square\n"
     ]
    }
   ],
   "source": [
    "lenght = int(input('give the value of length:  '))\n",
    "width = int(input('give the value of width:  '))\n",
    "\n",
    "if lenght == width:\n",
    "    print('this is a square')\n",
    "    \n",
    "else:\n",
    "    print('this is not a square')\n"
   ]
  },
  {
   "cell_type": "code",
   "execution_count": 150,
   "id": "0bfdd222",
   "metadata": {},
   "outputs": [
    {
     "name": "stdout",
     "output_type": "stream",
     "text": [
      "enter the first number:  22\n",
      "enter the first number:  21\n",
      "enter the first number:  20\n",
      "x is largest, and the value is:   22.0\n"
     ]
    }
   ],
   "source": [
    "x = float(input('enter the first number:  '))\n",
    "y = float(input('enter the first number:  '))\n",
    "z = float(input('enter the first number:  '))\n",
    "\n",
    "if x>y and x>z:\n",
    "    print('x is largest, and the value is:  ', x)\n",
    "    \n",
    "elif y>x and y>z:\n",
    "    print('y is largest, and the value is:  ', y)\n",
    "    \n",
    "else:\n",
    "    print('z is the greatest number and it is: ', z )\n",
    "\n",
    "    \n",
    "\n"
   ]
  },
  {
   "cell_type": "markdown",
   "id": "009e7c6f",
   "metadata": {},
   "source": [
    "# students attendance 75%"
   ]
  },
  {
   "cell_type": "code",
   "execution_count": 157,
   "id": "4ec9c305",
   "metadata": {},
   "outputs": [
    {
     "name": "stdout",
     "output_type": "stream",
     "text": [
      "total classes taken: 25\n",
      "student was present in:   10\n",
      "no\n"
     ]
    }
   ],
   "source": [
    "number_of_class = int(input('total classes taken: '))\n",
    "number_attended = int(input('student was present in:   '))\n",
    "attendance_percentage = (number_attended / number_of_class)*100\n",
    "\n",
    "if attendance_percentage > 75:\n",
    "    print('qualified')\n",
    "    \n",
    "else:\n",
    "    print('no')\n",
    "    \n",
    "    \n",
    "    "
   ]
  },
  {
   "cell_type": "markdown",
   "id": "cb059bce",
   "metadata": {},
   "source": [
    "# A School has following rules for grading system: Below 25-F, 25 to 44 - E,45 to 49 - D,50 to 59 - C,60 to 79 - B,80 to 89 - A, Above 90 - A+\n",
    "    Now ask user to enter marks and print the corresponding grade."
   ]
  },
  {
   "cell_type": "code",
   "execution_count": 161,
   "id": "d37170a2",
   "metadata": {},
   "outputs": [
    {
     "name": "stdout",
     "output_type": "stream",
     "text": [
      "the marks of student is:  23\n",
      "khub kharap, you are failed\n"
     ]
    }
   ],
   "source": [
    "exam_marks = float(input('the marks of student is:  '))\n",
    "\n",
    "if exam_marks<25:\n",
    "    print('khub kharap, you are failed')\n",
    "    \n",
    "elif exam_marks>=25 and exam_marks<44 :\n",
    "    print('grade is E')\n",
    "    \n",
    "elif exam_marks>=45 and exam_marks<49 :\n",
    "    print('grade is D')\n",
    "    \n",
    "elif exam_marks>=50 and exam_marks<59 :\n",
    "    print('grade is C')\n",
    "          \n",
    "elif exam_marks>=60 and exam_marks<79 :\n",
    "    print('grade is B')\n",
    "          \n",
    "elif exam_marks>=80 and exam_marks<89 :\n",
    "    print('grade is A')\n",
    "          \n",
    "else:\n",
    "          print('you got A+')\n",
    "    "
   ]
  },
  {
   "cell_type": "markdown",
   "id": "a5a2cebd",
   "metadata": {},
   "source": [
    "# day 9"
   ]
  },
  {
   "cell_type": "code",
   "execution_count": null,
   "id": "2c31a0da",
   "metadata": {},
   "outputs": [],
   "source": [
    "#for loop"
   ]
  },
  {
   "cell_type": "code",
   "execution_count": 164,
   "id": "e7d4fff6",
   "metadata": {},
   "outputs": [
    {
     "data": {
      "text/plain": [
       "'p'"
      ]
     },
     "execution_count": 164,
     "metadata": {},
     "output_type": "execute_result"
    }
   ],
   "source": [
    "data = 'python'\n",
    "data[0]\n"
   ]
  },
  {
   "cell_type": "code",
   "execution_count": 163,
   "id": "7c45f4c0",
   "metadata": {},
   "outputs": [
    {
     "data": {
      "text/plain": [
       "'n'"
      ]
     },
     "execution_count": 163,
     "metadata": {},
     "output_type": "execute_result"
    }
   ],
   "source": [
    "data[-1]"
   ]
  },
  {
   "cell_type": "code",
   "execution_count": 165,
   "id": "4f21b17c",
   "metadata": {},
   "outputs": [
    {
     "name": "stdout",
     "output_type": "stream",
     "text": [
      "p\n",
      "y\n",
      "t\n",
      "h\n",
      "o\n",
      "n\n"
     ]
    }
   ],
   "source": [
    "for x in data:\n",
    "    print(x)"
   ]
  },
  {
   "cell_type": "code",
   "execution_count": 166,
   "id": "e30777dc",
   "metadata": {},
   "outputs": [
    {
     "name": "stdout",
     "output_type": "stream",
     "text": [
      "x\n",
      "x\n",
      "x\n",
      "x\n",
      "x\n",
      "x\n"
     ]
    }
   ],
   "source": [
    "for x in data:\n",
    "    print('x')"
   ]
  },
  {
   "cell_type": "code",
   "execution_count": 167,
   "id": "bd56c520",
   "metadata": {},
   "outputs": [
    {
     "name": "stdout",
     "output_type": "stream",
     "text": [
      "p\n",
      "y\n",
      "t\n",
      "h\n",
      "o\n",
      "n\n"
     ]
    }
   ],
   "source": [
    "for x in range(len(data)):\n",
    "    print(data[x])"
   ]
  },
  {
   "cell_type": "code",
   "execution_count": 168,
   "id": "0c256f5b",
   "metadata": {},
   "outputs": [
    {
     "data": {
      "text/plain": [
       "6"
      ]
     },
     "execution_count": 168,
     "metadata": {},
     "output_type": "execute_result"
    }
   ],
   "source": [
    "len(data)"
   ]
  },
  {
   "cell_type": "code",
   "execution_count": 171,
   "id": "58d13c8c",
   "metadata": {},
   "outputs": [
    {
     "name": "stdout",
     "output_type": "stream",
     "text": [
      "p\n",
      "y\n",
      "t\n",
      "h\n",
      "o\n",
      "n\n"
     ]
    }
   ],
   "source": [
    "for x in range(6):\n",
    "     print(data[x])\n"
   ]
  },
  {
   "cell_type": "code",
   "execution_count": 172,
   "id": "33be0990",
   "metadata": {},
   "outputs": [
    {
     "name": "stdout",
     "output_type": "stream",
     "text": [
      "i\n",
      " \n",
      "l\n",
      "o\n",
      "v\n",
      "e\n",
      " \n",
      "d\n",
      "a\n",
      "t\n",
      "a\n",
      " \n",
      "s\n",
      "c\n",
      "i\n",
      "e\n",
      "n\n",
      "c\n",
      "e\n"
     ]
    }
   ],
   "source": [
    "data = 'i love data science'\n",
    "for x in range(len(data)):\n",
    "    print(data[x])"
   ]
  },
  {
   "cell_type": "code",
   "execution_count": 173,
   "id": "0cc6c932",
   "metadata": {},
   "outputs": [
    {
     "name": "stdout",
     "output_type": "stream",
     "text": [
      "i\n",
      "love\n",
      "data\n",
      "science\n",
      "so\n",
      "much\n"
     ]
    }
   ],
   "source": [
    "data = 'i love data science so much'\n",
    "data = data.split()\n",
    "for i in range(len(data)):\n",
    "    print(data[i])"
   ]
  },
  {
   "cell_type": "code",
   "execution_count": 174,
   "id": "d620aef2",
   "metadata": {},
   "outputs": [
    {
     "data": {
      "text/plain": [
       "'love'"
      ]
     },
     "execution_count": 174,
     "metadata": {},
     "output_type": "execute_result"
    }
   ],
   "source": [
    "data[1]\n"
   ]
  },
  {
   "cell_type": "code",
   "execution_count": 177,
   "id": "16461ade",
   "metadata": {},
   "outputs": [
    {
     "name": "stdout",
     "output_type": "stream",
     "text": [
      "1 1\n",
      "1\n",
      "3 2\n",
      "3\n",
      "6 3\n",
      "6\n",
      "10 4\n",
      "10\n",
      "15 5\n",
      "15\n",
      "81 66\n",
      "81\n",
      "158 77\n",
      "158\n",
      "170 12\n",
      "170\n",
      "204 34\n",
      "204\n"
     ]
    }
   ],
   "source": [
    "n = [1,2,3,4,5,66,77,12,34]\n",
    "total = 0\n",
    "\n",
    "for x in n:\n",
    "    total = total+x\n",
    "    print(total, x)\n",
    "    print(total)"
   ]
  },
  {
   "cell_type": "code",
   "execution_count": 179,
   "id": "b7cf9932",
   "metadata": {},
   "outputs": [
    {
     "name": "stdout",
     "output_type": "stream",
     "text": [
      "data science 5\n",
      "data science 6\n",
      "data science 7\n",
      "data science 8\n",
      "data science 9\n"
     ]
    }
   ],
   "source": [
    "for i in range(5,10):\n",
    "    print('data science', i)"
   ]
  },
  {
   "cell_type": "code",
   "execution_count": 180,
   "id": "5d368d48",
   "metadata": {},
   "outputs": [
    {
     "name": "stdout",
     "output_type": "stream",
     "text": [
      "data science 0\n",
      "data science 1\n",
      "data science 2\n",
      "data science 3\n",
      "data science 4\n",
      "data science 5\n",
      "data science 6\n",
      "data science 7\n",
      "data science 8\n",
      "data science 9\n"
     ]
    }
   ],
   "source": [
    "for i in range(10):\n",
    "    print('data science', i)"
   ]
  },
  {
   "cell_type": "code",
   "execution_count": 181,
   "id": "87c4ebf9",
   "metadata": {},
   "outputs": [
    {
     "name": "stdout",
     "output_type": "stream",
     "text": [
      "data science 5\n",
      "data science 7\n",
      "data science 9\n"
     ]
    }
   ],
   "source": [
    "for i in range(5,10,2):\n",
    "    print('data science', i)"
   ]
  },
  {
   "cell_type": "code",
   "execution_count": 182,
   "id": "de09f42e",
   "metadata": {},
   "outputs": [
    {
     "name": "stdout",
     "output_type": "stream",
     "text": [
      "sj soheli 100\n",
      "sj soheli 90\n",
      "sj soheli 80\n",
      "sj soheli 70\n",
      "sj soheli 60\n"
     ]
    }
   ],
   "source": [
    "for i in range(100, 50, -10):\n",
    "    print('sj soheli', i)"
   ]
  },
  {
   "cell_type": "code",
   "execution_count": 184,
   "id": "8bcd0612",
   "metadata": {},
   "outputs": [
    {
     "name": "stdout",
     "output_type": "stream",
     "text": [
      "100\n",
      "98\n",
      "96\n",
      "94\n",
      "92\n",
      "90\n",
      "88\n",
      "86\n",
      "84\n",
      "82\n",
      "80\n",
      "78\n",
      "76\n",
      "74\n",
      "72\n",
      "70\n",
      "68\n",
      "66\n",
      "64\n",
      "62\n",
      "60\n",
      "58\n",
      "56\n",
      "54\n",
      "52\n",
      "50\n",
      "48\n",
      "46\n",
      "44\n",
      "42\n",
      "40\n",
      "38\n",
      "36\n",
      "34\n",
      "32\n",
      "30\n",
      "28\n",
      "26\n",
      "24\n",
      "22\n",
      "20\n",
      "18\n",
      "16\n",
      "14\n",
      "12\n",
      "10\n",
      "8\n",
      "6\n",
      "4\n",
      "2\n"
     ]
    }
   ],
   "source": [
    "for i in range(100,,-2):\n",
    "    print(i)"
   ]
  },
  {
   "cell_type": "markdown",
   "id": "8410588d",
   "metadata": {},
   "source": [
    "# day 9 exeercise 1:\n",
    "\n",
    "for i in range(-100,-9,2):\n",
    "    print(i)"
   ]
  },
  {
   "cell_type": "code",
   "execution_count": 191,
   "id": "f06700eb",
   "metadata": {},
   "outputs": [
    {
     "name": "stdout",
     "output_type": "stream",
     "text": [
      "-100\n",
      "-98\n",
      "-96\n",
      "-94\n",
      "-92\n",
      "-90\n",
      "-88\n",
      "-86\n",
      "-84\n",
      "-82\n",
      "-80\n",
      "-78\n",
      "-76\n",
      "-74\n",
      "-72\n",
      "-70\n",
      "-68\n",
      "-66\n",
      "-64\n",
      "-62\n",
      "-60\n",
      "-58\n",
      "-56\n",
      "-54\n",
      "-52\n",
      "-50\n",
      "-48\n",
      "-46\n",
      "-44\n",
      "-42\n",
      "-40\n",
      "-38\n",
      "-36\n",
      "-34\n",
      "-32\n",
      "-30\n",
      "-28\n",
      "-26\n",
      "-24\n",
      "-22\n",
      "-20\n",
      "-18\n",
      "-16\n",
      "-14\n",
      "-12\n",
      "-10\n"
     ]
    }
   ],
   "source": [
    "for i in range(-100,-9,2): \n",
    "    print(i)"
   ]
  },
  {
   "cell_type": "markdown",
   "id": "d89feb5b",
   "metadata": {},
   "source": [
    "# exercise 2 #Write a program to sum all the prime numbers within range from 10-1000\n",
    "\n"
   ]
  },
  {
   "cell_type": "code",
   "execution_count": 195,
   "id": "0f3d3663",
   "metadata": {},
   "outputs": [
    {
     "name": "stdout",
     "output_type": "stream",
     "text": [
      "76127\n"
     ]
    }
   ],
   "source": [
    "num = range(2,1001)\n",
    "sum1 = 0\n",
    "for x in num :\n",
    "    for i in range(2,x):\n",
    "        if x % i == 0 :\n",
    "            break\n",
    "    else:\n",
    "        sum1 = sum1 + x\n",
    "print(sum1)"
   ]
  },
  {
   "cell_type": "markdown",
   "id": "1595e8eb",
   "metadata": {},
   "source": [
    "# exercise 3 : factorial"
   ]
  },
  {
   "cell_type": "code",
   "execution_count": 197,
   "id": "67f19515",
   "metadata": {},
   "outputs": [
    {
     "name": "stdout",
     "output_type": "stream",
     "text": [
      "enter the number: 8\n",
      "8\n",
      "56\n",
      "336\n",
      "1680\n",
      "6720\n",
      "20160\n",
      "40320\n",
      "40320\n"
     ]
    }
   ],
   "source": [
    "number = int(input('enter the number: '))\n",
    "\n",
    "factorial = 1\n",
    "\n",
    "for i in range(number, 0, -1):\n",
    "    factorial = i*factorial\n",
    "    print(factorial)"
   ]
  },
  {
   "cell_type": "code",
   "execution_count": 198,
   "id": "983a4cdd",
   "metadata": {},
   "outputs": [
    {
     "name": "stdout",
     "output_type": "stream",
     "text": [
      "654321\n"
     ]
    }
   ],
   "source": [
    "num = 123456\n",
    "print(str(num)[::-1])"
   ]
  },
  {
   "cell_type": "markdown",
   "id": "b55a589e",
   "metadata": {},
   "source": [
    "# while loop"
   ]
  },
  {
   "cell_type": "code",
   "execution_count": 201,
   "id": "1a935544",
   "metadata": {},
   "outputs": [
    {
     "name": "stdout",
     "output_type": "stream",
     "text": [
      "0\n",
      "1\n",
      "2\n",
      "3\n",
      "4\n",
      "5\n",
      "6\n",
      "7\n",
      "8\n",
      "9\n",
      "10\n"
     ]
    }
   ],
   "source": [
    "i = 0\n",
    "while(i<=10):\n",
    "    print(i)\n",
    "    i+=1"
   ]
  },
  {
   "cell_type": "code",
   "execution_count": 202,
   "id": "a96340a8",
   "metadata": {},
   "outputs": [
    {
     "name": "stdout",
     "output_type": "stream",
     "text": [
      "0 study mart\n",
      "1 study mart\n",
      "2 study mart\n",
      "3 study mart\n",
      "4 study mart\n",
      "5 study mart\n",
      "6 study mart\n",
      "7 study mart\n",
      "8 study mart\n",
      "9 study mart\n",
      "10 study mart\n"
     ]
    }
   ],
   "source": [
    "i = 0\n",
    "while(i<=10):\n",
    "    print(i, 'study mart')\n",
    "    i+=1"
   ]
  },
  {
   "cell_type": "code",
   "execution_count": 203,
   "id": "6a8b3b36",
   "metadata": {},
   "outputs": [
    {
     "name": "stdout",
     "output_type": "stream",
     "text": [
      "0 study mart\n",
      "2 study mart\n",
      "4 study mart\n",
      "6 study mart\n",
      "8 study mart\n",
      "10 study mart\n"
     ]
    }
   ],
   "source": [
    "i = 0\n",
    "while(i<=10):\n",
    "    print(i, 'study mart')\n",
    "    i+=2\n",
    "    "
   ]
  },
  {
   "cell_type": "code",
   "execution_count": 204,
   "id": "f88c6965",
   "metadata": {},
   "outputs": [
    {
     "name": "stdout",
     "output_type": "stream",
     "text": [
      "p\n",
      "y\n",
      "t\n",
      "h\n",
      "o\n",
      "n\n"
     ]
    }
   ],
   "source": [
    "data = 'python'\n",
    "index = 0\n",
    "while(index<len(data)):\n",
    "    print(data[index])\n",
    "    index = index+1"
   ]
  },
  {
   "cell_type": "code",
   "execution_count": 205,
   "id": "161a9fcb",
   "metadata": {},
   "outputs": [
    {
     "name": "stdout",
     "output_type": "stream",
     "text": [
      "python\n",
      "amar\n",
      "language\n"
     ]
    }
   ],
   "source": [
    "data = 'python amar language'\n",
    "data = data.split()\n",
    "index = 0\n",
    "while(index<len(data)):\n",
    "    print(data[index])\n",
    "    index = index+1"
   ]
  },
  {
   "cell_type": "code",
   "execution_count": null,
   "id": "19f34700",
   "metadata": {},
   "outputs": [],
   "source": []
  }
 ],
 "metadata": {
  "kernelspec": {
   "display_name": "Python 3 (ipykernel)",
   "language": "python",
   "name": "python3"
  },
  "language_info": {
   "codemirror_mode": {
    "name": "ipython",
    "version": 3
   },
   "file_extension": ".py",
   "mimetype": "text/x-python",
   "name": "python",
   "nbconvert_exporter": "python",
   "pygments_lexer": "ipython3",
   "version": "3.9.12"
  }
 },
 "nbformat": 4,
 "nbformat_minor": 5
}
